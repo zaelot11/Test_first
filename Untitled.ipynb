{
 "cells": [
  {
   "cell_type": "code",
   "execution_count": 1,
   "metadata": {
    "collapsed": true
   },
   "outputs": [],
   "source": [
    "from selenium import webdriver \n",
    "from selenium.webdriver.common.by import By \n",
    "from selenium.webdriver.support.ui import WebDriverWait \n",
    "from selenium.webdriver.support import expected_conditions as EC \n",
    "from selenium.common.exceptions import TimeoutException"
   ]
  },
  {
   "cell_type": "code",
   "execution_count": null,
   "metadata": {
    "collapsed": false
   },
   "outputs": [],
   "source": []
  },
  {
   "cell_type": "code",
   "execution_count": 2,
   "metadata": {
    "collapsed": false,
    "scrolled": true
   },
   "outputs": [
    {
     "name": "stdout",
     "output_type": "stream",
     "text": [
      "Timed out waiting for page to load\n",
      "titles:\n",
      "['Github-Api-Challenge', 'python-unit-tests-tutorial', 'KenyawebApp', 'filamu-app'] \n",
      "\n",
      "languages:\n",
      "['Java', 'Python 1 1', 'Java', 'Java 1 1'] \n",
      "\n"
     ]
    }
   ],
   "source": [
    "browser = webdriver.Chrome(executable_path='C:/Users/apunal/Downloads/chromedriver.exe')\n",
    "\n",
    "browser.get(\"https://github.com/TheDancerCodes\")\n",
    "\n",
    "# Wait 20 seconds for page to load\n",
    "timeout = 20\n",
    "try:\n",
    "    WebDriverWait(browser, timeout).until(EC.visibility_of_element_located((By.XPATH, \"//img[@class=’avatar width-full rounded-2']\")))\n",
    "except TimeoutException:\n",
    "    print(\"Timed out waiting for page to load\")\n",
    "# find_elements_by_xpath returns an array of selenium objects.\n",
    "titles_element = browser.find_elements_by_xpath(\"//a[@class='text-bold']\")\n",
    "# use list comprehension to get the actual repo titles and not the selenium objects.\n",
    "titles = [x.text for x in titles_element]\n",
    "# print out all the titles.\n",
    "print('titles:')\n",
    "print(titles, '\\n')\n",
    "\n",
    "language_element = browser.find_elements_by_xpath(\"//p[@class='mb-0 f6 text-gray']\")\n",
    "# same concept as for list-comprehension above.\n",
    "languages = [x.text for x in language_element]\n",
    "print(\"languages:\")\n",
    "print(languages, '\\n')\n",
    "\n",
    "\n",
    "browser.quit()"
   ]
  },
  {
   "cell_type": "code",
   "execution_count": null,
   "metadata": {
    "collapsed": true
   },
   "outputs": [],
   "source": []
  }
 ],
 "metadata": {
  "kernelspec": {
   "display_name": "Python 3",
   "language": "python",
   "name": "python3"
  },
  "language_info": {
   "codemirror_mode": {
    "name": "ipython",
    "version": 3
   },
   "file_extension": ".py",
   "mimetype": "text/x-python",
   "name": "python",
   "nbconvert_exporter": "python",
   "pygments_lexer": "ipython3",
   "version": "3.5.4"
  }
 },
 "nbformat": 4,
 "nbformat_minor": 0
}
