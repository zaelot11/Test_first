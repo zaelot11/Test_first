{
 "cells": [
  {
   "cell_type": "code",
   "execution_count": 11,
   "metadata": {
    "collapsed": false
   },
   "outputs": [
    {
     "name": "stdout",
     "output_type": "stream",
     "text": [
      "<class 'dict'>\n",
      "dic: 2020327848\n",
      "sidlo: 529320\n",
      "konsolidovana: False\n",
      "mesto: Bratislava - mestská časť Ružinov\n",
      "idUctovnychZavierok: [284815, 569334, 993846, 1714323, 2083688, 2384908, 2744533, 3205809]\n",
      "zdrojDat: SUSR\n",
      "datumZalozenia: 1991-02-13\n",
      "psc: 82107\n",
      "pravnaForma: 112\n",
      "ico: 00643581\n",
      "velkostOrganizacie: 11\n",
      "kraj: 1\n",
      "skNace: 46630\n",
      "nazovUJ: TERRASTROJ spol. s r.o.\n",
      "ulica: Vlčie hrdlo 90/A\n",
      "datumPoslednejUpravy: 2017-07-31\n",
      "id: 15\n",
      "druhVlastnictva: 8\n",
      "okres: 102\n",
      "idVyrocnychSprav: [2137571, 2615731, 3007669, 3340889]\n"
     ]
    }
   ],
   "source": [
    "import requests\n",
    "\n",
    "http_proxy  = \"http://165.225.72.41:10792\"\n",
    "https_proxy = \"https://185.46.214.34:10792\"\n",
    "ftp_proxy   = \"ftp://10.10.1.10:3128\"\n",
    "\n",
    "proxyDict = { \n",
    "              \"http\"  : http_proxy, \n",
    "              \"https\" : https_proxy, \n",
    "              \"ftp\"   : ftp_proxy\n",
    "            }\n",
    "#http://www.registeruz.sk/cruz-public/api/uctovne-jednotky?zmenene-od=2000-01-01&pokracovat-za-id=1&max-zaznamov=1&pravna-forma=112\n",
    "r = requests.get('http://www.registeruz.sk/cruz-public/api/uctovna-jednotka?id=15', proxies=proxyDict)\n",
    "#print(data[\"ico\"])\n",
    "data = r.json()\n",
    "print(type(data))\n",
    "#print(data.values())\n",
    "\n",
    "#print(data['ico'], data['id'])\n",
    "\n",
    "for i in data.keys():\n",
    "    print(\"{}: {}\".format(i, data[i]))\n",
    "\n",
    "\n",
    "    "
   ]
  },
  {
   "cell_type": "code",
   "execution_count": null,
   "metadata": {
    "collapsed": true
   },
   "outputs": [],
   "source": []
  }
 ],
 "metadata": {
  "kernelspec": {
   "display_name": "Python 3",
   "language": "python",
   "name": "python3"
  },
  "language_info": {
   "codemirror_mode": {
    "name": "ipython",
    "version": 3
   },
   "file_extension": ".py",
   "mimetype": "text/x-python",
   "name": "python",
   "nbconvert_exporter": "python",
   "pygments_lexer": "ipython3",
   "version": "3.5.4"
  }
 },
 "nbformat": 4,
 "nbformat_minor": 0
}
