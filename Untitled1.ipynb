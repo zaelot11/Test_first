{
 "cells": [
  {
   "cell_type": "code",
   "execution_count": 7,
   "metadata": {
    "collapsed": false
   },
   "outputs": [
    {
     "name": "stdout",
     "output_type": "stream",
     "text": [
      "10879421\n",
      "11892625\n",
      "10959416\n",
      "00603783\n",
      "11705795\n"
     ]
    }
   ],
   "source": [
    "import json\n",
    "import requests\n",
    "import datetime\n",
    "\n",
    "http_proxy  = \"http://165.225.72.41:10792\"\n",
    "https_proxy = \"https://185.46.214.34:10792\"\n",
    "ftp_proxy   = \"ftp://10.10.1.10:3128\"\n",
    "\n",
    "proxyDict = { \n",
    "              \"http\"  : http_proxy, \n",
    "              \"https\" : https_proxy, \n",
    "              \"ftp\"   : ftp_proxy\n",
    "            }\n",
    "\n",
    "#data outputs to a CSV file in the current directory\n",
    "#csv_output = open(\"test.csv\", \"w\")\n",
    "\n",
    "end_page = 5;\n",
    "\n",
    "try:\n",
    "    requests.get('http://www.registeruz.sk/cruz-public/api/uctovna-jednotka?id=' + \"2\", proxies=proxyDict)\n",
    "except:\n",
    "    print (\"This is an error message!\")\n",
    "\n",
    "#scan through pages 1 to end_page for data, 20 results per page\n",
    "for page in range(1,end_page+1):\n",
    "    \n",
    "    r = requests.get('http://www.registeruz.sk/cruz-public/api/uctovna-jednotka?id=' + str(page), proxies=proxyDict)\n",
    "    data = r.json()\n",
    "    print(data[\"ico\"])\n",
    "\n",
    "    #csv_output.write(\"\\\"%s\\\",%s\\n\" % (data[\"user_details\"][index][\"user_id\"].encode('ascii', 'ignore'))), \n",
    "\n",
    "    #data[\"user_details\"][index][\"user_id\"]\n",
    "\n",
    "#csv_output.close()"
   ]
  },
  {
   "cell_type": "code",
   "execution_count": null,
   "metadata": {
    "collapsed": true
   },
   "outputs": [],
   "source": []
  }
 ],
 "metadata": {
  "kernelspec": {
   "display_name": "Python 3",
   "language": "python",
   "name": "python3"
  },
  "language_info": {
   "codemirror_mode": {
    "name": "ipython",
    "version": 3
   },
   "file_extension": ".py",
   "mimetype": "text/x-python",
   "name": "python",
   "nbconvert_exporter": "python",
   "pygments_lexer": "ipython3",
   "version": "3.5.4"
  }
 },
 "nbformat": 4,
 "nbformat_minor": 0
}
