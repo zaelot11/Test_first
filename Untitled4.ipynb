{
 "cells": [
  {
   "cell_type": "code",
   "execution_count": 37,
   "metadata": {},
   "outputs": [
    {
     "name": "stdout",
     "output_type": "stream",
     "text": [
      "0 255\n",
      "1 372\n",
      "2 36\n",
      "3 212\n",
      "4 0\n",
      "5 133\n",
      "6 277\n",
      "7 617\n",
      "8 457\n",
      "9 1322\n",
      "10 26\n",
      "11 133\n",
      "12 266\n",
      "13 153\n",
      "14 240\n",
      "15 11\n",
      "16 123\n",
      "17 450\n",
      "18 48\n",
      "19 153\n",
      "20 37\n",
      "21 56\n",
      "22 200\n",
      "23 5\n",
      "24 225\n",
      "25 333\n",
      "26 245\n",
      "27 10\n",
      "28 104\n",
      "29 256\n",
      "30 0\n",
      "31 86\n",
      "6841\n",
      "0\n",
      "32\n"
     ]
    }
   ],
   "source": [
    "from os import walk\n",
    "import pandas as pd\n",
    "\n",
    "f = []\n",
    "for (dirpath, dirnames, filenames) in walk(\"/home/luke/venv/Tensorflow/BeatTheBookie-master/data/odds_series/export_data/\"):\n",
    "    f.extend(filenames)\n",
    "    \n",
    "    \n",
    "    #file = \"/home/luke/venv/Tensorflow/BeatTheBookie-master/data/odds_series/\" & filenames\n",
    "    #match01 = pd.read_csv(file, sep=',', quotechar='\"', header = None)\n",
    "    break\n",
    "path = \"/home/luke/venv/Tensorflow/BeatTheBookie-master/data/odds_series/export_data/\"\n",
    "save_path = \"/home/luke/venv/Tensorflow/BeatTheBookie-master/data/odds_series/export_data/\"\n",
    "f.sort()\n",
    "o=len(f)\n",
    "\n",
    "\n",
    "\n",
    "A = []\n",
    "\n",
    "for i  in range(0,len(f)) :\n",
    "    \n",
    "    \n",
    "    match01 = pd.read_csv(path + f[i] , sep=',', quotechar='\"', header = None)\n",
    "    A.append(match01[4][0])\n",
    "    \n",
    "stuck =[]\n",
    "\n",
    "df = pd.DataFrame(A)\n",
    "count = 0\n",
    "for i in range(0,32):\n",
    "    x=df[df[0]==i].count()[0]\n",
    "    \n",
    "    count = count+x\n",
    "    print(i , x  )\n",
    "    stuck.append(count)\n",
    "    count = 0\n",
    "\n",
    "print(len(A))\n",
    "print(count)\n",
    "print(len(stuck))\n"
   ]
  },
  {
   "cell_type": "code",
   "execution_count": 38,
   "metadata": {},
   "outputs": [
    {
     "name": "stdout",
     "output_type": "stream",
     "text": [
      "32\n"
     ]
    }
   ],
   "source": [
    "print(len(stuck))"
   ]
  },
  {
   "cell_type": "code",
   "execution_count": 39,
   "metadata": {},
   "outputs": [
    {
     "name": "stdout",
     "output_type": "stream",
     "text": [
      "[255, 372, 36, 212, 0, 133, 277, 617, 457, 1322, 26, 133, 266, 153, 240, 11, 123, 450, 48, 153, 37, 56, 200, 5, 225, 333, 245, 10, 104, 256, 0, 86]\n"
     ]
    }
   ],
   "source": [
    "print(stuck)"
   ]
  },
  {
   "cell_type": "code",
   "execution_count": 40,
   "metadata": {},
   "outputs": [
    {
     "name": "stdout",
     "output_type": "stream",
     "text": [
      "31\n"
     ]
    }
   ],
   "source": [
    "print(i)"
   ]
  },
  {
   "cell_type": "code",
   "execution_count": 41,
   "metadata": {},
   "outputs": [],
   "source": [
    "import numpy as np\n",
    "import matplotlib.pyplot as plt\n",
    "%matplotlib inline"
   ]
  },
  {
   "cell_type": "code",
   "execution_count": 42,
   "metadata": {},
   "outputs": [
    {
     "data": {
      "text/plain": [
       "<Container object of 32 artists>"
      ]
     },
     "execution_count": 42,
     "metadata": {},
     "output_type": "execute_result"
    },
    {
     "data": {
      "image/png": "[encoded data removed]",
      "text/plain": [
       "<matplotlib.figure.Figure at 0x7f6da0a670b8>"
      ]
     },
     "metadata": {},
     "output_type": "display_data"
    }
   ],
   "source": [
    "\n",
    "x = np.arange(32)\n",
    "plt.bar(x, stuck)"
   ]
  },
  {
   "cell_type": "code",
   "execution_count": 23,
   "metadata": {},
   "outputs": [],
   "source": []
  },
  {
   "cell_type": "code",
   "execution_count": null,
   "metadata": {},
   "outputs": [],
   "source": []
  }
 ],
 "metadata": {
  "kernelspec": {
   "display_name": "Python 3",
   "language": "python",
   "name": "python3"
  },
  "language_info": {
   "codemirror_mode": {
    "name": "ipython",
    "version": 3
   },
   "file_extension": ".py",
   "mimetype": "text/x-python",
   "name": "python",
   "nbconvert_exporter": "python",
   "pygments_lexer": "ipython3",
   "version": "3.5.2"
  }
 },
 "nbformat": 4,
 "nbformat_minor": 2
}
